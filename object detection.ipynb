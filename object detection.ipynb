{
 "cells": [
  {
   "cell_type": "code",
   "execution_count": 1,
   "id": "f7dcbcaf",
   "metadata": {},
   "outputs": [],
   "source": [
    "import cv2 \n",
    "import numpy as np\n",
    "\n",
    "LABELS = ['pineapple','apple']  # 이미지 라벨링\n",
    "\n",
    "# 파인애플과 사과에 대한 확률이 30% 만 넘으면  그 사물로 보겠다.\n",
    "CONFIDENCE = 0.3\n",
    "\n",
    "THRESHOLD = 0.3 # NMS(Num Max Suppression)\n",
    "\n",
    "net = cv2.dnn.readNetFromDarknet('C:/Data/image/yolov4_custom.cfg','C:/Data/image/yolov4_custom_last.weights') # 환경 구성 파일, 가중치"
   ]
  },
  {
   "cell_type": "code",
   "execution_count": 22,
   "id": "0a9a7968",
   "metadata": {},
   "outputs": [],
   "source": [
    "img_path = \"C:/Data/image/Pineapple_apple.jpeg\""
   ]
  },
  {
   "cell_type": "code",
   "execution_count": 16,
   "id": "4a6da825",
   "metadata": {},
   "outputs": [],
   "source": [
    "# 사물검출 함수\n",
    "def main(img_path):\n",
    "    img = cv2.imread(img_path) \n",
    "    H, W, _ = img.shape \n",
    "   \n",
    "   # scalefactor : 정규화\n",
    "   # swapRB=True : BGR -> RGB \n",
    "    blob = cv2.dnn.blobFromImage(img, scalefactor=1/255., size=(416, 416), swapRB=True) \n",
    "\n",
    "    net.setInput(blob) # setInput = predict\n",
    "    output = net.forward() # output\n",
    " \n",
    "    boxes, confidences, class_ids = [], [], []  \n",
    " \n",
    "    for det in output: # output[:4] : x, y, w, h / output[5:] : score\n",
    "        box = det[:4] \n",
    "        scores = det[5:] # label rates -> [pineapple rate, apple rate]\n",
    "        class_id = np.argmax(scores) # [0.2, 0.8] ->  index 1\n",
    "        confidence = scores[class_id] # confidence = 0.8 index\n",
    "   \n",
    "        if confidence > CONFIDENCE:  \n",
    "            cx, cy, w, h = box * np.array([W, H, W, H]) \n",
    "            x = cx - (w / 2) \n",
    "            y = cy - (h / 2) # 박스를 바운딩할 x 와 y 좌표\n",
    "\n",
    "            boxes.append([int(x), int(y), int(w), int(h)])  # 박스 바운딩할 위치 정보\n",
    "            confidences.append(float(confidence))  # 확률 정보\n",
    "            class_ids.append(class_id) \n",
    "   \n",
    "    # Num Max Suppression\n",
    "    idxs = cv2.dnn.NMSBoxes(boxes, confidences, CONFIDENCE, THRESHOLD)\n",
    "   \n",
    "    if len(idxs) > 0: # object detection True\n",
    "        for i in idxs.flatten(): # 박싱\n",
    "            x, y, w, h = boxes[i]  \n",
    "            \n",
    "            cv2.rectangle(img, pt1=(x, y), pt2=(x + w, y + h), color=(0, 0, 255), thickness=2) # red border\n",
    "            # object detection 정보\n",
    "            cv2.putText(img, text='%s %.2f %d' % (LABELS[class_ids[i]], confidences[i], w), org=(x, y - 10),\n",
    "                        fontFace=cv2.FONT_HERSHEY_SIMPLEX, fontScale=0.5, color=(0, 0, 255), thickness=2)\n",
    "    \n",
    "    # 이미지 저장\n",
    "    cv2.imwrite('C:/Data/image/pineapple_apple_detection.png', img)"
   ]
  },
  {
   "cell_type": "code",
   "execution_count": 23,
   "id": "32b6a00b",
   "metadata": {},
   "outputs": [],
   "source": [
    "main(img_path)"
   ]
  }
 ],
 "metadata": {
  "kernelspec": {
   "display_name": "Python 3 (ipykernel)",
   "language": "python",
   "name": "python3"
  },
  "language_info": {
   "codemirror_mode": {
    "name": "ipython",
    "version": 3
   },
   "file_extension": ".py",
   "mimetype": "text/x-python",
   "name": "python",
   "nbconvert_exporter": "python",
   "pygments_lexer": "ipython3",
   "version": "3.10.9"
  }
 },
 "nbformat": 4,
 "nbformat_minor": 5
}

