{
 "cells": [
  {
   "cell_type": "code",
   "execution_count": null,
   "id": "26795c57",
   "metadata": {},
   "outputs": [],
   "source": [
    "# 1. 필요한 패키지 가져오는 코드 \n",
    "import tensorflow as tf   # 텐써 플로우 2.0 \n",
    "from tensorflow.keras.datasets import cifar10\n",
    "from tensorflow.keras.models import Sequential  # 모델을 구성하기 위한 모듈\n",
    "from tensorflow.keras.layers import Activation,Dense, Conv2D, MaxPooling2D, Flatten, BatchNormalization, Dropout  # CNN, 완전 연결계층을 구성하기 위한 모듈\n",
    "from tensorflow.keras.utils import to_categorical # one encoding 하는 모듈\n",
    "import numpy as np\n",
    "\n",
    "# 2. vgg 신경망 설계도를 가져옵니다. \n",
    "from  tensorflow.keras.applications  import  VGG16\n",
    "vgg16 = VGG16( weights = 'imagenet', input_shape =(32,32,3), include_top=False )"
   ]
  },
  {
   "cell_type": "code",
   "execution_count": null,
   "id": "652aeded",
   "metadata": {},
   "outputs": [],
   "source": [
    "#■ vgg16 신경망을 동결 시켰을때 \n",
    "#for  layer  in  vgg16.layers[:]:\n",
    "#    layer.trainable = False   # False 는 동결\n",
    "\n",
    "#vgg16.summary()\n",
    "\n",
    "#■ vgg16 신경망을 동결 시키지 않았을때 \n",
    "for  layer  in  vgg16.layers[:]:\n",
    "    layer.trainable = True   # True 는 동결 해제 (default)\n",
    "\n",
    "vgg16.summary()"
   ]
  },
  {
   "cell_type": "code",
   "execution_count": null,
   "id": "4e3a4f3a",
   "metadata": {},
   "outputs": [],
   "source": [
    "# 3. cifar10 데이터를 가져옵니다.\n",
    "\n",
    "tf.random.set_seed(777)\n",
    "\n",
    "(x_train, y_train), (x_test, y_test) = cifar10.load_data()\n",
    "print(x_train.shape) # (50000, 32, 32)\n",
    "print(x_test.shape)  # (10000, 32, 32)   \n",
    "\n",
    "# 설명:  위의 결과는 색조를 나타내는 차원이 없습니다. \n",
    "# 그래서 다음과 같이 색조를 나타내는 차원을 추가주겠금 reshape 를 해줘야합니다.\n",
    "# (50000, 32, 32)  ---->  (50000, 32, 32, 1)\n",
    "# (10000, 32, 32)  ---->  (10000, 32, 32, 1)\n",
    "# 3차원을 4차원으로 변경해주되 안의 요소(픽셀)의 갯수는 동일해야합니다. \n",
    "# 3차원(50000*32*32) ------> 4차원( 50000*32*32*1)  로 갯수는 동일합니다 \n",
    "\n",
    "x_train = x_train.reshape(-1, 32, 32, 3)  # -1의 의미는 학습데이터는 갯수만큼 알아서 하고 4차원으로 변경해라\n",
    "x_test = x_test.reshape(-1, 32, 32, 3)\n",
    "print(x_train.shape) # (50000, 32, 32, 3)\n",
    "print(x_test.shape)  # (10000, 32, 32, 3)"
   ]
  },
  {
   "cell_type": "code",
   "execution_count": null,
   "id": "7f0bbe4a",
   "metadata": {},
   "outputs": [],
   "source": [
    "# 4. 정규화 진행  \n",
    "x_train = x_train / 255 \n",
    "x_test = x_test / 255\n",
    "\n",
    "# 5. 정답 데이터를 준비한다. \n",
    "# 하나의 숫자를 one hot encoding 한다. (예:  4 ---> 0 0 0 0 1 0 0 0 0 0 ) \n",
    "y_train = to_categorical(y_train)  # 훈련 데이터의 라벨(정답)을 원핫 인코딩\n",
    "y_test = to_categorical(y_test)    # 테스트 데이터의 라벨(정답)을 원핫 인코딩 "
   ]
  },
  {
   "cell_type": "code",
   "execution_count": null,
   "id": "9ddbf927",
   "metadata": {},
   "outputs": [],
   "source": [
    "# 6. 모델을 구성합니다. \n",
    "\n",
    "model = Sequential()\n",
    "model.add(vgg16)  # vgg16 모델을 사용합니다.\n",
    "\n",
    "#완전 연결계층은 직접 구현합니다. \n",
    "model.add( Flatten() )\n",
    "model.add( Dense(256) )\n",
    "model.add(BatchNormalization() )\n",
    "model.add(Dropout(0.4) )\n",
    "model.add(Activation('relu') )\n",
    "model.add( Dense(256) )\n",
    "model.add(BatchNormalization() )\n",
    "model.add(Dropout(0.4) )\n",
    "model.add(Activation('relu') )\n",
    "model.add(Dense(10, activation='softmax') ) \n",
    "model.summary()\n",
    "\n",
    "# 이미지넷 대회에서의 vgg 신경망의 출력층의 뉴런의 갯수는 1000개 입니다.\n",
    "# 그런데 우리는 cifar10 데이터로 10개의 클래스를 분류할거라서 include_top=False 로 두고\n",
    "# 완전 연결계층을 우리 손으로 직접 만들었습니다. \n",
    "\n",
    "# 7. 모델을 설정합니다. ( 경사하강법, 오차함수를 정의해줍니다. )\n",
    "model.compile(optimizer='adam', \n",
    "                     loss = 'categorical_crossentropy', \n",
    "                     metrics=['acc'])  # 학습과정에서 정확도를 보려고 "
   ]
  },
  {
   "cell_type": "code",
   "execution_count": null,
   "id": "c73f9667",
   "metadata": {},
   "outputs": [],
   "source": [
    "from  tensorflow.keras.callbacks  import  EarlyStopping \n",
    "\n",
    "'''\n",
    "# 얼리 스탑 기능 추가\n",
    "class MyThresholdCallback(tf.keras.callbacks.Callback):\n",
    "    def __init__(self, threshold):\n",
    "        super(MyThresholdCallback, self).__init__()\n",
    "        self.threshold = threshold\n",
    "\n",
    "    def on_epoch_end(self, epoch, logs=None): \n",
    "        val_acc = logs[\"val_acc\"]\n",
    "        if val_acc >= self.threshold:\n",
    "            self.model.stop_training = True\n",
    "\n",
    "#검증 데이터의 정확도가 80% 넘으면 조기중단하게 설정\n",
    "callbacks  = MyThresholdCallback(threshold=0.8)\n",
    "'''\n",
    "\n",
    "#8. 모델을 훈련시킵니다. \n",
    "\n",
    "history = model.fit(x_train, y_train, \n",
    "                         epochs = 100,  # 30에폭\n",
    "                         batch_size = 100,\n",
    "                         validation_data=(x_test, y_test) )\n",
    "                        #, callbacks = callbacks )"
   ]
  },
  {
   "cell_type": "code",
   "execution_count": null,
   "id": "028a5f37",
   "metadata": {},
   "outputs": [],
   "source": [
    "# 9.모델을 평가합니다. (오차, 정확도가 출력됩니다.)\n",
    "model.evaluate(x_test, y_test)\n",
    "\n",
    "train_acc_list=history.history['acc']\n",
    "train_acc_list\n",
    "\n",
    "test_acc_list=history.history['val_acc']\n",
    "test_acc_list"
   ]
  },
  {
   "cell_type": "code",
   "execution_count": null,
   "id": "c5cd797b",
   "metadata": {},
   "outputs": [],
   "source": [
    "import  matplotlib.pyplot  as  plt\n",
    "\n",
    "x = np.arange( len(train_acc_list) )\n",
    "plt.plot( x, train_acc_list, label='train acc')\n",
    "plt.plot( x, test_acc_list, label='test acc',  linestyle='--')\n",
    "plt.ylim(0, 1)\n",
    "plt.legend(loc='lower right')\n",
    "plt.xlabel('epochs')\n",
    "plt.ylabel('accuracy')\n",
    "plt.show()"
   ]
  }
 ],
 "metadata": {
  "kernelspec": {
   "display_name": "Python 3 (ipykernel)",
   "language": "python",
   "name": "python3"
  },
  "language_info": {
   "codemirror_mode": {
    "name": "ipython",
    "version": 3
   },
   "file_extension": ".py",
   "mimetype": "text/x-python",
   "name": "python",
   "nbconvert_exporter": "python",
   "pygments_lexer": "ipython3",
   "version": "3.10.9"
  }
 },
 "nbformat": 4,
 "nbformat_minor": 5
}
